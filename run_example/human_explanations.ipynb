{
 "cells": [
  {
   "cell_type": "markdown",
   "metadata": {},
   "source": [
    "### Textual explanation creation\n",
    "\n",
    "\n",
    "In this notebook we will:\n",
    "\n",
    "1️⃣ Load a model\n",
    "\n",
    "\n",
    "2️⃣ Generate paths from explainable methods like PGPR\n",
    "\n",
    "\n",
    "3️⃣ Generate textual explanations through templates"
   ]
  },
  {
   "cell_type": "markdown",
   "metadata": {},
   "source": [
    "**Load libraries**"
   ]
  },
  {
   "cell_type": "code",
   "execution_count": null,
   "metadata": {},
   "outputs": [],
   "source": [
    "from hopwise.quick_start import load_data_and_model\n",
    "from hopwise.utils.case_study import full_sort_scores\n",
    "import pandas as pd"
   ]
  },
  {
   "cell_type": "markdown",
   "metadata": {},
   "source": [
    "**Define model checkpoint 📍**"
   ]
  },
  {
   "cell_type": "code",
   "execution_count": null,
   "metadata": {},
   "outputs": [],
   "source": [
    "checkpoint = \"saved/CAFE-Apr-17-2025_02-36-50.pth\""
   ]
  },
  {
   "cell_type": "markdown",
   "metadata": {},
   "source": [
    "**Define templates 📍**\n",
    "\n",
    "Consider a path in the form of: `'user', 'relation1', 'entity1', 'relation2', 'entity2', 'relation3', 'product'`"
   ]
  },
  {
   "cell_type": "code",
   "execution_count": null,
   "metadata": {},
   "outputs": [],
   "source": [
    "templates = [\n",
    "    \"{product} is recommend to you because you {relation1} {entity1} also {relation2} by {entity2}\",\n",
    "]"
   ]
  },
  {
   "cell_type": "markdown",
   "metadata": {},
   "source": [
    "**Load model checkpoint with its configuration**"
   ]
  },
  {
   "cell_type": "code",
   "execution_count": null,
   "metadata": {},
   "outputs": [],
   "source": [
    "config, model, dataset, train_data, valid_data, test_data = load_data_and_model(\n",
    "    model_file=checkpoint)"
   ]
  },
  {
   "cell_type": "markdown",
   "metadata": {},
   "source": [
    "**Load mappings**"
   ]
  },
  {
   "cell_type": "code",
   "execution_count": null,
   "metadata": {},
   "outputs": [],
   "source": [
    "# we map back the entities and users to their original values in the dataset\n",
    "def pid2item(x): return dataset.id2token(dataset.iid_field, x)\n",
    "def eid2entity(x): return dataset.id2token(dataset.entity_field, x)\n",
    "def uid2user(x): return dataset.id2token(dataset.uid_field, x)\n",
    "def rid2relation(x): return dataset.id2token(dataset.relation_field, x)"
   ]
  },
  {
   "cell_type": "markdown",
   "metadata": {},
   "source": [
    "**Specify for which users provide explanations 👤**"
   ]
  },
  {
   "cell_type": "code",
   "execution_count": null,
   "metadata": {},
   "outputs": [],
   "source": [
    "#provide explanations for ORIGINAL user 196 and user 186. \n",
    "#Consider that the remapped uids are passed to the model, not the ones you provided!!\n",
    "uid_series = dataset.token2id(dataset.uid_field, [\"196\", \"186\"])"
   ]
  },
  {
   "cell_type": "markdown",
   "metadata": {},
   "source": [
    "**Get explanations from model inference output 🤩**"
   ]
  },
  {
   "cell_type": "code",
   "execution_count": null,
   "metadata": {},
   "outputs": [],
   "source": [
    "# explanations is a pandas dataframe with columns: uid, product, score, explanation (the produced path)\n",
    "explanations = full_sort_scores(\n",
    "    uid_series, model, test_data, device=config[\"device\"], explain = True)"
   ]
  },
  {
   "cell_type": "markdown",
   "metadata": {},
   "source": [
    "**Fill templates 🤔**"
   ]
  },
  {
   "cell_type": "code",
   "execution_count": null,
   "metadata": {},
   "outputs": [],
   "source": [
    "#  fill templates\n",
    "e_type2mapping = {'U': uid2user, 'E': eid2entity, 'I': pid2item, 'R': rid2relation}\n",
    "\n",
    "for i, template in enumerate(templates):\n",
    "    filled_template = list()\n",
    "    for path in explanations['path']:\n",
    "        user, relation1, entity1, relation2, entity2, relation3, product = path\n",
    "\n",
    "        # remap to original entities and items. relations are already mapped back\n",
    "        user = e_type2mapping[user[0]](int(user[1:]))\n",
    "        relation  = e_type2mapping[relation1[0]](int(relation1[1:]))\n",
    "        entity1 = e_type2mapping[entity1[0]](int(entity1[1:]))\n",
    "        entity2 = e_type2mapping[entity2[0]](int(entity2[1:]))\n",
    "        \n",
    "        filled_template.append(template.format(\n",
    "            user=user,\n",
    "            relation1=relation1,\n",
    "            entity1=entity1,\n",
    "            relation2=relation2,\n",
    "            entity2=entity2,\n",
    "            relation3=relation3,\n",
    "            product=product\n",
    "            )\n",
    "        )\n",
    "    # we create a new column for each template\n",
    "    explanations[f'template{i}'] = filled_template"
   ]
  },
  {
   "cell_type": "markdown",
   "metadata": {},
   "source": [
    "**Show textual explanations 🚀**"
   ]
  },
  {
   "cell_type": "code",
   "execution_count": null,
   "metadata": {},
   "outputs": [],
   "source": [
    "explanations"
   ]
  }
 ],
 "metadata": {
  "kernelspec": {
   "display_name": ".venv",
   "language": "python",
   "name": "python3"
  },
  "language_info": {
   "codemirror_mode": {
    "name": "ipython",
    "version": 3
   },
   "file_extension": ".py",
   "mimetype": "text/x-python",
   "name": "python",
   "nbconvert_exporter": "python",
   "pygments_lexer": "ipython3",
   "version": "3.9.19"
  }
 },
 "nbformat": 4,
 "nbformat_minor": 2
}
